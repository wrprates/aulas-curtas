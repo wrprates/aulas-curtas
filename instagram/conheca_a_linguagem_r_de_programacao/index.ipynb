{
  "cells": [
    {
      "cell_type": "raw",
      "metadata": {},
      "source": [
        "---\n",
        "title: \"Conheça a Linguagem R de Programação\"\n",
        "subtitle: \"Curiosidades e usos desta linguagem tão difundida em análise e ciência de dados\"\n",
        "title-slide-attributes:\n",
        "  data-background-image: background.png\n",
        "  data-background-opacity: \".1\"\n",
        "author: \"por Wlademir Prates\"\n",
        "format:\n",
        "  revealjs: \n",
        "    theme: moon\n",
        "    incremental: false\n",
        "    self-contained: true\n",
        "    transition: slide\n",
        "    width: 1080\n",
        "    height: 1305\n",
        "---"
      ],
      "id": "6cda28b4"
    },
    {
      "cell_type": "markdown",
      "metadata": {},
      "source": [
        "```{css, echo=FALSE}\n",
        ".title {\n",
        "  font-size: 100px;\n",
        "  font-style: italic;\n",
        "  color: blue;\n",
        "  font-family: Arial;\n",
        "  font-variant: small-caps;\n",
        "}\n",
        "````\n",
        "\n",
        "\n",
        "# Introdução {background-color=\"#25325f\" style=\"font-size: 1.7em;\"} \n",
        "A linguagem R de programação é uma das ferramentas mais populares para análise de dados e ciência de dados.\n",
        "\n",
        "# Linguagem R: história {style=\"font-size: 1.7em;\"}\n",
        "A linguagem R foi desenvolvida na década de 90 por acadêmicos para aplicações estatísticas.\n",
        "\n",
        "# Uso em estatística {background-color=\"#4192b5\"  style=\"font-size: 1.7em;\"}\n",
        "A linguagem R é amplamente utilizada no campo da estatística para modelagem de dados e inferência estatística.\n",
        "\n",
        "# Uso em análise de dados {style=\"font-size: 1.7em;\"}\n",
        "A linguagem R é muito utilizada em análise de dados e ciência de dados por sua capacidade de manipular e visualizar grandes quantidades de dados.\n",
        "\n",
        "# Programação orientada a objetos {background-color=\"#4192b5\" style=\"font-size: 1.7em;\"}\n",
        "\n",
        "A linguagem R não foi originalmente concebida como uma linguagem orientada a objetos. Porém, ela oferece recursos que **permitem programação orientada a objetos**, como o pacote `R6`, que oferece suporte a classes e objetos em R.\n",
        "\n",
        "# Big data {background-color=\"#4192b5\" style=\"font-size: 1.7em;\"}\n",
        "\n",
        "É possível trabalhar com grandes bancos de dados em R usando o pacote `dbplyr`, que permite enviar queries SQL escritas com código em R.\n",
        "\n",
        "O R é compatível com outras ferramentas de big data, como `Hadoop` e `Spark`.\n",
        "\n",
        "# Conclusão {background-color=\"#25325f\" style=\"font-size: 1.7em;\"}\n",
        "A linguagem R de programação é uma excelente escolha para análise de dados e ciência de dados.\n",
        "\n",
        "Oferece recursos avançados de processamento, visualização e modelagem de dados, bem como opções de programação orientada a objetos e suporte a *big data*.\n",
        "\n",
        "#\n",
        "\n",
        "![](share_info.png)\n"
      ],
      "id": "9a84c422"
    }
  ],
  "metadata": {
    "kernelspec": {
      "display_name": "Python 3",
      "language": "python",
      "name": "python3"
    }
  },
  "nbformat": 4,
  "nbformat_minor": 5
}